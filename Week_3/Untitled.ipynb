{
 "cells": [
  {
   "cell_type": "code",
   "execution_count": 1,
   "id": "e3744824",
   "metadata": {},
   "outputs": [
    {
     "name": "stdout",
     "output_type": "stream",
     "text": [
      "Enter 1st name: ekene\n",
      "Enter 1st age: 2\n",
      "Enter 2nd name: jesse\n",
      "Enter 2nd age: 300\n",
      "The ages would be switched eventually\n",
      "As of now, ekene's age is 2 and jesse's age is 300\n",
      "When swapped;\n",
      "ekene's age is 300 and jesse's age is 2\n"
     ]
    }
   ],
   "source": [
    "name_1= input(\"Enter 1st name: \")\n",
    "age_1 = int(input(\"Enter 1st age: \"))\n",
    "name_2 = input(\"Enter 2nd name: \")\n",
    "age_2 = int(input(\"Enter 2nd age: \"))\n",
    "print(\"The ages would be switched eventually\")\n",
    "print(f\"As of now, {name_1}'s age is {age_1} and {name_2}'s age is {age_2}\")\n",
    "print(\"When swapped;\")\n",
    "print(f\"{name_1}'s age is {age_2} and {name_2}'s age is {age_1}\")\n"
   ]
  },
  {
   "cell_type": "code",
   "execution_count": null,
   "id": "e8cad700",
   "metadata": {},
   "outputs": [],
   "source": [
    "name_1 = input(\"Enter name 1: \")\n",
    "age_1 = input(\"Enter age 1: \")\n",
    "name_2 = input(\"Enter name 2: \")\n",
    "age_2 = input(\"Enter age 2: \")\n",
    "\n",
    "print(name_1 + \" is \" + age_1 + \" and \" + name_2 + \" is \" + age_2)\n",
    "print(\"When swapped, \" + name_1 + \" is \" + age_2 + \" and \" + name_2 + \" is \" + age_1)\n"
   ]
  }
 ],
 "metadata": {
  "kernelspec": {
   "display_name": "Python 3 (ipykernel)",
   "language": "python",
   "name": "python3"
  },
  "language_info": {
   "codemirror_mode": {
    "name": "ipython",
    "version": 3
   },
   "file_extension": ".py",
   "mimetype": "text/x-python",
   "name": "python",
   "nbconvert_exporter": "python",
   "pygments_lexer": "ipython3",
   "version": "3.10.9"
  }
 },
 "nbformat": 4,
 "nbformat_minor": 5
}
