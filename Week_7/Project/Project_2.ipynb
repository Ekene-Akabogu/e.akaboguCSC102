{
 "cells": [
  {
   "cell_type": "code",
   "execution_count": 1,
   "id": "457b3813",
   "metadata": {},
   "outputs": [
    {
     "name": "stdout",
     "output_type": "stream",
     "text": [
      "YEGA SERVICES\n",
      "Enter Name: IbejuLekki\n",
      "Enter Location: IbejuLekki\n"
     ]
    },
    {
     "ename": "NameError",
     "evalue": "name 'IbejuLekki' is not defined",
     "output_type": "error",
     "traceback": [
      "\u001b[1;31m---------------------------------------------------------------------------\u001b[0m",
      "\u001b[1;31mNameError\u001b[0m                                 Traceback (most recent call last)",
      "Cell \u001b[1;32mIn[1], line 5\u001b[0m\n\u001b[0;32m      3\u001b[0m integer1 \u001b[38;5;241m=\u001b[39m \u001b[38;5;28minput\u001b[39m(\u001b[38;5;124m\"\u001b[39m\u001b[38;5;124mEnter Name: \u001b[39m\u001b[38;5;124m\"\u001b[39m)\n\u001b[0;32m      4\u001b[0m integer \u001b[38;5;241m=\u001b[39m \u001b[38;5;28minput\u001b[39m(\u001b[38;5;124m\"\u001b[39m\u001b[38;5;124mEnter Location: \u001b[39m\u001b[38;5;124m\"\u001b[39m)\n\u001b[1;32m----> 5\u001b[0m \u001b[38;5;28;01mif\u001b[39;00m integer \u001b[38;5;241m==\u001b[39m \u001b[43mIbejuLekki\u001b[49m:\n\u001b[0;32m      6\u001b[0m     weight \u001b[38;5;241m=\u001b[39m \u001b[38;5;28mfloat\u001b[39m(\u001b[38;5;28minput\u001b[39m(\u001b[38;5;124m\"\u001b[39m\u001b[38;5;124mEnter package weight: \u001b[39m\u001b[38;5;124m\"\u001b[39m))\n\u001b[0;32m      7\u001b[0m     \u001b[38;5;28;01mif\u001b[39;00m weight \u001b[38;5;241m>\u001b[39m\u001b[38;5;241m=\u001b[39m \u001b[38;5;241m10\u001b[39m:\n",
      "\u001b[1;31mNameError\u001b[0m: name 'IbejuLekki' is not defined"
     ]
    }
   ],
   "source": [
    "print(\"YEGA SERVICES\")\n",
    "\n",
    "integer1 = input(\"Enter Name: \")\n",
    "integer = input(\"Enter Location: \")\n",
    "if integer == IbejuLekki:\n",
    "    weight = float(input(\"Enter package weight: \"))\n",
    "    if weight >= 10:\n",
    "        print(\"Price = 2000\")\n"
   ]
  },
  {
   "cell_type": "code",
   "execution_count": null,
   "id": "042ebc2e",
   "metadata": {},
   "outputs": [],
   "source": []
  }
 ],
 "metadata": {
  "kernelspec": {
   "display_name": "Python 3 (ipykernel)",
   "language": "python",
   "name": "python3"
  },
  "language_info": {
   "codemirror_mode": {
    "name": "ipython",
    "version": 3
   },
   "file_extension": ".py",
   "mimetype": "text/x-python",
   "name": "python",
   "nbconvert_exporter": "python",
   "pygments_lexer": "ipython3",
   "version": "3.10.9"
  }
 },
 "nbformat": 4,
 "nbformat_minor": 5
}
