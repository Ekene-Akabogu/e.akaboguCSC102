{
 "cells": [
  {
   "cell_type": "code",
   "execution_count": 3,
   "id": "8aaa7418",
   "metadata": {},
   "outputs": [
    {
     "ename": "SyntaxError",
     "evalue": "incomplete input (151519787.py, line 4)",
     "output_type": "error",
     "traceback": [
      "\u001b[1;36m  Cell \u001b[1;32mIn[3], line 4\u001b[1;36m\u001b[0m\n\u001b[1;33m    class classname(ABC):\u001b[0m\n\u001b[1;37m                         ^\u001b[0m\n\u001b[1;31mSyntaxError\u001b[0m\u001b[1;31m:\u001b[0m incomplete input\n"
     ]
    }
   ],
   "source": [
    "from abc import ABC\n",
    "\n",
    "# declaration\n",
    "class classname(ABC):"
   ]
  },
  {
   "cell_type": "code",
   "execution_count": null,
   "id": "536ecfcd",
   "metadata": {
    "scrolled": true
   },
   "outputs": [],
   "source": [
    "def abstractmethod_name():\n",
    "    "
   ]
  },
  {
   "cell_type": "code",
   "execution_count": null,
   "id": "3bfafc80",
   "metadata": {},
   "outputs": [],
   "source": [
    "from abc import ABC\n",
    "\n",
    "# here abc and ABC are case-sensitive "
   ]
  },
  {
   "cell_type": "code",
   "execution_count": 4,
   "id": "aceacf3b",
   "metadata": {},
   "outputs": [],
   "source": [
    "from abc import ABC, abstractmethod\n",
    "\n",
    "# Abstract Class\n",
    "class product(ABC):\n",
    "    \n",
    "    # Normal Method\n",
    "    def item_list(self, rate):\n",
    "        print(\"amount submitted: \", rate)\n",
    "        \n",
    "    # Abstract Method\n",
    "    @abstractmethod\n",
    "    def product(self, rate):\n",
    "        pass"
   ]
  },
  {
   "cell_type": "code",
   "execution_count": 5,
   "id": "f8da67bf",
   "metadata": {},
   "outputs": [
    {
     "name": "stdout",
     "output_type": "stream",
     "text": [
      "Volume of a rectangle:  144\n",
      "Volume of a cube:  125\n",
      "Volume of a sphere:  2089.9840000000004\n",
      "Volume of a triangle:  10.0\n"
     ]
    }
   ],
   "source": [
    "# A program to generate the volume of geometric shapes\n",
    "\n",
    "from abc import ABC\n",
    "\n",
    "class geometric(ABC):\n",
    "    \n",
    "    def volume(self):\n",
    "        #abstract method\n",
    "        pass\n",
    "\n",
    "class Rect(geometric):\n",
    "    length = 4 \n",
    "    width = 6\n",
    "    height = 6\n",
    "    def volume(self):\n",
    "        return self.length * self.width * self.height\n",
    "\n",
    "class Sphere(geometric):\n",
    "    radius = 8\n",
    "    def volume(self):\n",
    "        return 1.3 * 3.14 * self.radius * self.radius * self.radius\n",
    "\n",
    "class Cube(geometric):\n",
    "    Edge = 5\n",
    "    def volume(self):\n",
    "        return self.Edge ** 3\n",
    "        \n",
    "class Triangle_3D:\n",
    "    length = 5 \n",
    "    width = 4\n",
    "    def volume(self):\n",
    "        return 0.5 * self.length * self.width\n",
    "    \n",
    "rr = Rect()\n",
    "ss = Sphere()\n",
    "cc = Cube()\n",
    "tt = Triangle_3D()\n",
    "print(\"Volume of a rectangle: \", rr.volume())\n",
    "print(\"Volume of a cube: \", cc.volume())\n",
    "print(\"Volume of a sphere: \", ss.volume())\n",
    "print(\"Volume of a triangle: \", tt.volume())"
   ]
  },
  {
   "cell_type": "code",
   "execution_count": 5,
   "id": "92f36760",
   "metadata": {},
   "outputs": [
    {
     "name": "stdout",
     "output_type": "stream",
     "text": [
      "Paycheque of:  6500\n",
      "Purchase of the product:  6500\n",
      "True\n",
      "Pay through card of:  2600\n",
      "Purchase of the product:  200\n",
      "True\n"
     ]
    }
   ],
   "source": [
    "# A program to generate different invoices\n",
    "\n",
    "from abc import ABC, abstractmethod\n",
    "\n",
    "class Bill(ABC):\n",
    "    def final_bill(self, pay):\n",
    "        print(\"Purchase of the product: \", pay)\n",
    "        \n",
    "    @abstractmethod\n",
    "    def Invoice(self, pay):\n",
    "        pass\n",
    "    \n",
    "class Paycheque(Bill):\n",
    "    def Invoice(self, pay):\n",
    "        print(\"Paycheque of: \", pay)\n",
    "        \n",
    "class CardPayment(Bill):\n",
    "    def Invoice(self, pay):\n",
    "        print(\"Pay through card of: \", pay)\n",
    "        \n",
    "aa = Paycheque()\n",
    "aa.Invoice(6500)\n",
    "aa.final_bill(6500)\n",
    "print(isinstance(aa, Paycheque))\n",
    "\n",
    "aa = CardPayment()\n",
    "aa.Invoice(2600)\n",
    "aa.final_bill(2600)\n",
    "print(isinstance(aa, CardPayment))"
   ]
  },
  {
   "cell_type": "markdown",
   "id": "cdec5c19",
   "metadata": {},
   "source": [
    "#### Python program showing abstract base class work\n",
    "\n",
    "from abc import ABC, abstractmethod\n",
    "\n",
    "class Animal(ABC):\n",
    "    \n",
    "    @abstractmethod\n",
    "    def move(self):\n",
    "        pass\n",
    "    \n",
    "class Human(Animal):\n",
    "    \n",
    "    def move(self, Animal):\n",
    "        print(f\"\\n You are {animal}. You can walk and run\")\n",
    "        \n",
    "class Dog(Animal):\n",
    "    \n",
    "    def move(self,animal):\n",
    "        print(f\"\\n You are a {animal}. You can bark\")\n",
    "        \n",
    "class Lion(Animal):\n",
    "    \n",
    "    def move(self,animal):\n",
    "        print(f\"\\n You are a {animal}. You can roar\")\n",
    "        \n",
    "# Object Instantiation\n",
    "animal = input(\"What animal specie are you? \")\n",
    "\n",
    "if animal == \"Human\":\n",
    "    H = Human()\n",
    "    H.move(animal)\n",
    "elif animal == \"Dog\":\n",
    "    D = Dog()\n",
    "    D.move(animal)\n",
    "elif animal == \"Lion\":\n",
    "    L = Lion()\n",
    "    L.move(animal)\n",
    "else:\n",
    "    print(\"Invalid animal specie\")"
   ]
  },
  {
   "cell_type": "code",
   "execution_count": 34,
   "id": "06986b3c",
   "metadata": {},
   "outputs": [
    {
     "name": "stdout",
     "output_type": "stream",
     "text": [
      "Abstract Bass Class\n",
      "subclass\n"
     ]
    }
   ],
   "source": [
    "# Python program invoking a method using super()\n",
    "\n",
    "from abc import ABC, abstractmethod\n",
    "\n",
    "class R(ABC):\n",
    "    \n",
    "    def rk(self):\n",
    "        print(\"Abstract Bass Class\")\n",
    "    \n",
    "class K(R):\n",
    "    def rk(self):\n",
    "        super().rk()\n",
    "        print(\"subclass\")\n",
    "        \n",
    "# Object Instantiation\n",
    "r = K()\n",
    "r.rk()"
   ]
  },
  {
   "cell_type": "code",
   "execution_count": 42,
   "id": "1ba15670",
   "metadata": {},
   "outputs": [
    {
     "name": "stdout",
     "output_type": "stream",
     "text": [
      "Total Naira Value here:  5000\n",
      "Total Naira Value here:  2000\n",
      "Fees submitted:  3500\n"
     ]
    }
   ],
   "source": [
    "from abc import ABC, abstractmethod\n",
    "\n",
    "class Bank(ABC):\n",
    "    def branch(self, Naira):\n",
    "        print(\"Fees submitted: \", Naira)\n",
    "        \n",
    "    @abstractmethod\n",
    "    def Bank(Naira):\n",
    "        pass\n",
    "        \n",
    "class private(Bank):\n",
    "    def Bank(Naira):\n",
    "        print(\"Total Naira Value here: \", Naira)\n",
    "        \n",
    "class public(Bank):\n",
    "    def Bank(Naira):\n",
    "        print(\"Total Naira Value here: \",Naira)\n",
    "        \n",
    "private.Bank(5000)\n",
    "public.Bank(2000)\n",
    "\n",
    "a = public()\n",
    "a.branch(3500)"
   ]
  }
 ],
 "metadata": {
  "kernelspec": {
   "display_name": "Python 3 (ipykernel)",
   "language": "python",
   "name": "python3"
  },
  "language_info": {
   "codemirror_mode": {
    "name": "ipython",
    "version": 3
   },
   "file_extension": ".py",
   "mimetype": "text/x-python",
   "name": "python",
   "nbconvert_exporter": "python",
   "pygments_lexer": "ipython3",
   "version": "3.10.9"
  }
 },
 "nbformat": 4,
 "nbformat_minor": 5
}
