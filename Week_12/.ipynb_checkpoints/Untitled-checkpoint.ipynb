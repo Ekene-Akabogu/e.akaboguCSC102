{
 "cells": [
  {
   "cell_type": "code",
   "execution_count": null,
   "id": "fb30d961",
   "metadata": {},
   "outputs": [],
   "source": [
    "from ABC import abc\n",
    "\n",
    "# declaration\n",
    "class classname(ABC):"
   ]
  },
  {
   "cell_type": "code",
   "execution_count": null,
   "id": "5a37af66",
   "metadata": {
    "scrolled": true
   },
   "outputs": [],
   "source": [
    "def abstractmethod_name():\n",
    "    "
   ]
  },
  {
   "cell_type": "code",
   "execution_count": null,
   "id": "ff37a88f",
   "metadata": {},
   "outputs": [],
   "source": [
    "from abc import ABC\n",
    "\n",
    "# here abc and ABC are case-sensitive "
   ]
  },
  {
   "cell_type": "code",
   "execution_count": 1,
   "id": "e0489bf8",
   "metadata": {},
   "outputs": [],
   "source": [
    "from abc import ABC, abstractmethod\n",
    "\n",
    "# Abstract Class\n",
    "class product(ABC):\n",
    "    \n",
    "    # Normal Method\n",
    "    def item_list(self, rate):\n",
    "        print(\"amount submitted: \", rate)\n",
    "        \n",
    "    # Absttract Method\n",
    "    @abstractmethod\n",
    "    def product(self,rate):\n",
    "        pass"
   ]
  },
  {
   "cell_type": "code",
   "execution_count": 5,
   "id": "c3ab0d81",
   "metadata": {},
   "outputs": [
    {
     "name": "stdout",
     "output_type": "stream",
     "text": [
      "Volume of a rectangle:  144\n",
      "Volume of a cube:  125\n",
      "Volume of a sphere:  2089.9840000000004\n",
      "Volume of a triangle:  10.0\n"
     ]
    }
   ],
   "source": [
    "# A program to generate the volume of geometric shapes\n",
    "\n",
    "from abc import ABC\n",
    "\n",
    "class geometric(ABC):\n",
    "    \n",
    "    def volume(self):\n",
    "        #abstract method\n",
    "        pass\n",
    "\n",
    "class Rect(geometric):\n",
    "    length = 4 \n",
    "    width = 6\n",
    "    height = 6\n",
    "    def volume(self):\n",
    "        return self.length * self.width * self.height\n",
    "\n",
    "class Sphere(geometric):\n",
    "    radius = 8\n",
    "    def volume(self):\n",
    "        return 1.3 * 3.14 * self.radius * self.radius * self.radius\n",
    "\n",
    "class Cube(geometric):\n",
    "    Edge = 5\n",
    "    def volume(self):\n",
    "        return self.Edge ** 3\n",
    "        \n",
    "class Triangle_3D:\n",
    "    length = 5 \n",
    "    width = 4\n",
    "    def volume(self):\n",
    "        return 0.5 * self.length * self.width\n",
    "    \n",
    "rr = Rect()\n",
    "ss = Sphere()\n",
    "cc = Cube()\n",
    "tt = Triangle_3D()\n",
    "print(\"Volume of a rectangle: \", rr.volume())\n",
    "print(\"Volume of a cube: \", cc.volume())\n",
    "print(\"Volume of a sphere: \", ss.volume())\n",
    "print(\"Volume of a triangle: \", tt.volume())"
   ]
  },
  {
   "cell_type": "code",
   "execution_count": 16,
   "id": "1d94bddc",
   "metadata": {},
   "outputs": [
    {
     "name": "stdout",
     "output_type": "stream",
     "text": [
      "Paycheque of:  6500\n",
      "Purchase of the product:  6500\n",
      "True\n",
      "Pay through card of:  2600\n",
      "Purchase of the product:  2600\n",
      "True\n"
     ]
    }
   ],
   "source": [
    "# A program to generate different invoices\n",
    "\n",
    "from abc import ABC, abstractmethod\n",
    "\n",
    "class Bill(ABC):\n",
    "    def final_bill(self, pay):\n",
    "        print(\"Purchase of the product: \", pay)\n",
    "        \n",
    "    @abstractmethod\n",
    "    def Invoice(self, pay):\n",
    "        pass\n",
    "    \n",
    "class Paycheque(Bill):\n",
    "    def Invoice(self, pay):\n",
    "        print(\"Paycheque of: \", pay)\n",
    "        \n",
    "class CardPayment(Bill):\n",
    "    def Invoice(self, pay):\n",
    "        print(\"Pay through card of: \", pay)\n",
    "        \n",
    "aa = Paycheque()\n",
    "aa.Invoice(6500)\n",
    "aa.final_bill(6500)\n",
    "print(isinstance(aa, Paycheque))\n",
    "\n",
    "aa = CardPayment()\n",
    "aa.Invoice(2600)\n",
    "aa.final_bill(2600)\n",
    "print(isinstance(aa, CardPayment))"
   ]
  },
  {
   "cell_type": "code",
   "execution_count": 21,
   "id": "367f17d6",
   "metadata": {},
   "outputs": [
    {
     "name": "stdout",
     "output_type": "stream",
     "text": [
      "What animal specie are you? Lion\n",
      "\n",
      " You are a Lion. You can roar\n"
     ]
    }
   ],
   "source": [
    "# Python program showing abstract base class work\n",
    "\n",
    "from abc import ABC, abstractmethod\n",
    "\n",
    "class Animal(ABC):\n",
    "    \n",
    "    @abstractmethod\n",
    "    def move(self):\n",
    "        pass\n",
    "    \n",
    "class Human(Animal):\n",
    "    \n",
    "    def move(self, Animal):\n",
    "        print(f\"\\n You are {animal}. You can walk and run\")\n",
    "        \n",
    "class Dog(Animal):\n",
    "    \n",
    "    def move(self,animal):\n",
    "        print(f\"\\n You are a {animal}. You can bark\")\n",
    "        \n",
    "class Lion(Animal):\n",
    "    \n",
    "    def move(self,animal):\n",
    "        print(f\"\\n You are a {animal}. You can roar\")\n",
    "        \n",
    "# Object Instantiation\n",
    "animal = input(\"What animal specie are you? \")\n",
    "\n",
    "if animal == \"Human\":\n",
    "    H = Human()\n",
    "    H.move(animal)\n",
    "elif animal == \"Dog\":\n",
    "    D = Dog()\n",
    "    D.move(animal)\n",
    "elif animal == \"Lion\":\n",
    "    L = Lion()\n",
    "    L.move(animal)\n",
    "else:\n",
    "    print(\"Invalid animal specie\")"
   ]
  },
  {
   "cell_type": "code",
   "execution_count": 34,
   "id": "d59c31f0",
   "metadata": {},
   "outputs": [
    {
     "name": "stdout",
     "output_type": "stream",
     "text": [
      "Abstract Bass Class\n",
      "subclass\n"
     ]
    }
   ],
   "source": [
    "# Python program invoking a method using super()\n",
    "\n",
    "from abc import ABC, abstractmethod\n",
    "\n",
    "class R(ABC):\n",
    "    \n",
    "    def rk(self):\n",
    "        print(\"Abstract Bass Class\")\n",
    "    \n",
    "class K(R):\n",
    "    def rk(self):\n",
    "        super().rk()\n",
    "        print(\"subclass\")\n",
    "        \n",
    "# Object Instantiation\n",
    "r = K()\n",
    "r.rk()"
   ]
  }
 ],
 "metadata": {
  "kernelspec": {
   "display_name": "Python 3 (ipykernel)",
   "language": "python",
   "name": "python3"
  },
  "language_info": {
   "codemirror_mode": {
    "name": "ipython",
    "version": 3
   },
   "file_extension": ".py",
   "mimetype": "text/x-python",
   "name": "python",
   "nbconvert_exporter": "python",
   "pygments_lexer": "ipython3",
   "version": "3.10.9"
  }
 },
 "nbformat": 4,
 "nbformat_minor": 5
}
