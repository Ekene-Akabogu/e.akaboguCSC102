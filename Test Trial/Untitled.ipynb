{
 "cells": [
  {
   "cell_type": "code",
   "execution_count": null,
   "id": "1249bef8",
   "metadata": {},
   "outputs": [],
   "source": [
    "numbers = [1, 2, 4, 6, 11, 20]\n",
    "sq = 0\n",
    "for val in range (3,5):\n",
    "    sq = val * val\n",
    "    print(sq)"
   ]
  },
  {
   "cell_type": "code",
   "execution_count": 5,
   "id": "d8666ded",
   "metadata": {
    "scrolled": true
   },
   "outputs": [
    {
     "name": "stdout",
     "output_type": "stream",
     "text": [
      "8\n",
      "6\n",
      "4\n"
     ]
    }
   ],
   "source": [
    "x = range(8, 3, -2)\n",
    "for n in x:\n",
    "    print(n)"
   ]
  },
  {
   "cell_type": "code",
   "execution_count": 6,
   "id": "978da9a6",
   "metadata": {},
   "outputs": [
    {
     "name": "stdout",
     "output_type": "stream",
     "text": [
      "7\n"
     ]
    }
   ],
   "source": [
    "def bank(x):\n",
    "    x = x + [5]\n",
    "    c = [4, 5, 6, 1]\n",
    "c = [3, 2, 3, 4, 7]\n",
    "bank(c)\n",
    "print(len(c)+ min(c))"
   ]
  },
  {
   "cell_type": "code",
   "execution_count": 7,
   "id": "931339ed",
   "metadata": {},
   "outputs": [
    {
     "name": "stdout",
     "output_type": "stream",
     "text": [
      "3 and 10\n",
      "3 and 13\n"
     ]
    }
   ],
   "source": [
    "for num1 in range(3, 5, 2):\n",
    "    for num2 in range(10, 14, 3):\n",
    "        print(num1, \"and\", num2)"
   ]
  },
  {
   "cell_type": "code",
   "execution_count": 13,
   "id": "befd85af",
   "metadata": {},
   "outputs": [
    {
     "name": "stdout",
     "output_type": "stream",
     "text": [
      "[310, 809, 412, 521] [3]\n"
     ]
    }
   ],
   "source": [
    "from array import *\n",
    "play = [[121, 212, 35, 112], [150, 600, 150], [310, 809, 412, 521]]\n",
    "print(play[2],[3])"
   ]
  },
  {
   "cell_type": "code",
   "execution_count": 16,
   "id": "d1bd1a59",
   "metadata": {},
   "outputs": [
    {
     "name": "stdout",
     "output_type": "stream",
     "text": [
      "1\n",
      "4.5\n",
      "8.0\n"
     ]
    }
   ],
   "source": [
    "num = 1\n",
    "while num < 9:\n",
    "    print(num)\n",
    "    num = num + 3.5"
   ]
  },
  {
   "cell_type": "code",
   "execution_count": 23,
   "id": "3eccc03c",
   "metadata": {},
   "outputs": [
    {
     "name": "stdout",
     "output_type": "stream",
     "text": [
      "8.6 is not in the code\n"
     ]
    }
   ],
   "source": [
    "def ginger_man(n):\n",
    "    if n in range(2,6):\n",
    "        print(n*4, \"is in the code\")\n",
    "    else:\n",
    "        print(n*2, \"is not in the code\")\n",
    "ginger_man(4.3)"
   ]
  },
  {
   "cell_type": "code",
   "execution_count": 24,
   "id": "1baaac31",
   "metadata": {},
   "outputs": [
    {
     "name": "stdout",
     "output_type": "stream",
     "text": [
      "SUV\n"
     ]
    }
   ],
   "source": [
    "vehicles =['Sport Car', 'Convertible', 'Wagon', 'SUV', 'Truck']\n",
    "i = 3\n",
    "while i < len(vehicles):\n",
    "    print(vehicles[i])\n",
    "    i += 2"
   ]
  },
  {
   "cell_type": "code",
   "execution_count": 25,
   "id": "7a26a19b",
   "metadata": {},
   "outputs": [
    {
     "name": "stdout",
     "output_type": "stream",
     "text": [
      "1\n",
      "81\n"
     ]
    }
   ],
   "source": [
    "def printDict():\n",
    "    d = dict()\n",
    "    for i in range(1, 12, 8):\n",
    "        d[i] = i**2\n",
    "        print(d[i])\n",
    "        \n",
    "printDict()"
   ]
  },
  {
   "cell_type": "code",
   "execution_count": 27,
   "id": "9311f424",
   "metadata": {},
   "outputs": [
    {
     "name": "stdout",
     "output_type": "stream",
     "text": [
      "2.0\n"
     ]
    }
   ],
   "source": [
    "class Program():\n",
    "    def __init__(self):\n",
    "        self.grade = 50\n",
    "        self.percent = 2*self.grade\n",
    "        \n",
    "class Subject(Program):\n",
    "    def __init__(self):\n",
    "        self.grade = 40\n",
    "        self.percent = 2*self.grade\n",
    "        \n",
    "    def print_aggregate(self):\n",
    "        print(self.percent/self.grade)\n",
    "        \n",
    "obj = Subject()\n",
    "obj.print_aggregate()"
   ]
  }
 ],
 "metadata": {
  "kernelspec": {
   "display_name": "Python 3 (ipykernel)",
   "language": "python",
   "name": "python3"
  },
  "language_info": {
   "codemirror_mode": {
    "name": "ipython",
    "version": 3
   },
   "file_extension": ".py",
   "mimetype": "text/x-python",
   "name": "python",
   "nbconvert_exporter": "python",
   "pygments_lexer": "ipython3",
   "version": "3.10.9"
  }
 },
 "nbformat": 4,
 "nbformat_minor": 5
}
