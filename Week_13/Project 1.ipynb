{
 "cells": [
  {
   "cell_type": "code",
   "execution_count": 5,
   "id": "3a946606",
   "metadata": {},
   "outputs": [
    {
     "ename": "SyntaxError",
     "evalue": "invalid syntax. Perhaps you forgot a comma? (3554990577.py, line 7)",
     "output_type": "error",
     "traceback": [
      "\u001b[1;36m  Cell \u001b[1;32mIn[5], line 7\u001b[1;36m\u001b[0m\n\u001b[1;33m    PAU_SIMS = {[\"Student Name\"]  input(\"Enter Student Name: \")\u001b[0m\n\u001b[1;37m                ^\u001b[0m\n\u001b[1;31mSyntaxError\u001b[0m\u001b[1;31m:\u001b[0m invalid syntax. Perhaps you forgot a comma?\n"
     ]
    }
   ],
   "source": [
    "import pandas as pd\n",
    "\n",
    "details = []\n",
    "\n",
    "for i in range(5):\n",
    "    \n",
    "    PAU_SIMS = {}\n",
    "    PAU_SIMS[\"Student Name\"] = input(\"Enter Student Name: \")\n",
    "    PAU_SIMS['Matric number'] = input(\"Enter Matric. Number: \")\n",
    "    PAU_SIMS[\"Department\"] = input(\"Enter Department: \")\n",
    "    PAU_SIMS[\"Level\"] = input(\"Enter Level: \")\n",
    "    \n",
    "    details.append(PAU_SIMS)\n",
    "\n",
    "df = pd.DataFrame(details)\n",
    "df\n",
    "df.to_csv('PAU_SIMS.csv', index = False)"
   ]
  },
  {
   "cell_type": "code",
   "execution_count": 12,
   "id": "a815d63c",
   "metadata": {},
   "outputs": [],
   "source": [
    "import pandas as pd\n",
    "\n",
    "details = {\"Company\": ['Enron', 'Anderson','GK Jones', 'Mica', 'Dune'],\n",
    "          \"Year Founded\": [1987, 1936, 2001, 1996, 2008],\n",
    "          \"Company's Shares\": [1000000, 1500000, 3000000, 250000, 800000],\n",
    "          \"Company's Liability\": [200000, 500000, 1500000, 50000, 300000],\n",
    "           \n",
    "          \"Percentage Leverages\": [80, 66.7, 50, 80, 62.5]}\n",
    "\n",
    "df = pd.DataFrame(details)\n",
    "\n",
    "df.to_csv(\"Company_records.csv\")"
   ]
  }
 ],
 "metadata": {
  "kernelspec": {
   "display_name": "Python 3 (ipykernel)",
   "language": "python",
   "name": "python3"
  },
  "language_info": {
   "codemirror_mode": {
    "name": "ipython",
    "version": 3
   },
   "file_extension": ".py",
   "mimetype": "text/x-python",
   "name": "python",
   "nbconvert_exporter": "python",
   "pygments_lexer": "ipython3",
   "version": "3.10.9"
  }
 },
 "nbformat": 4,
 "nbformat_minor": 5
}
