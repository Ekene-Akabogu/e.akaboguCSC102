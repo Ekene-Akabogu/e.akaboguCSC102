{
 "cells": [
  {
   "cell_type": "code",
   "execution_count": null,
   "id": "a815d63c",
   "metadata": {},
   "outputs": [],
   "source": [
    "import pandas as pd\n",
    "\n",
    "details = {\"Company\": ['Enron', 'Anderson','GK Jones', 'Mica', 'Dune'],\n",
    "          \"Year Founded\": [1987, 1936, 2001, 1996, 2008],\n",
    "          \"Company's Shares\": [1000000, 1500000, 3000000, 250000, 800000],\n",
    "          \"Company's Liability\": [200000, 500000, 1500000, 50000, 300000],\n",
    "          \"Percentage Leverages\": [80, 66.7, 50, 80, 62.5]}\n",
    "\n",
    "df = pd.DataFrame(details)\n",
    "\n",
    "df.to_csv(\"Company_records.csv\")"
   ]
  }
 ],
 "metadata": {
  "kernelspec": {
   "display_name": "Python 3 (ipykernel)",
   "language": "python",
   "name": "python3"
  },
  "language_info": {
   "codemirror_mode": {
    "name": "ipython",
    "version": 3
   },
   "file_extension": ".py",
   "mimetype": "text/x-python",
   "name": "python",
   "nbconvert_exporter": "python",
   "pygments_lexer": "ipython3",
   "version": "3.10.9"
  }
 },
 "nbformat": 4,
 "nbformat_minor": 5
}
