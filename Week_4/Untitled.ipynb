{
 "cells": [
  {
   "cell_type": "code",
   "execution_count": 3,
   "id": "5bc64099",
   "metadata": {},
   "outputs": [
    {
     "name": "stdout",
     "output_type": "stream",
     "text": [
      "Roots: [ 5.7354895  -2.20904977  0.47356027]\n"
     ]
    }
   ],
   "source": [
    "import numpy as np\n",
    "\n",
    "def cubic_solver(A, B, C, D):\n",
    "    coeffs = [A, B, C, D]\n",
    "    roots = np.roots(coeffs)\n",
    "    return roots\n",
    "\n",
    "# Example usage\n",
    "A = 1\n",
    "B = -4\n",
    "C = -11\n",
    "D = 6\n",
    "\n",
    "roots = cubic_solver(A, B, C, D)\n",
    "print(\"Roots:\", roots)\n"
   ]
  }
 ],
 "metadata": {
  "kernelspec": {
   "display_name": "Python 3 (ipykernel)",
   "language": "python",
   "name": "python3"
  },
  "language_info": {
   "codemirror_mode": {
    "name": "ipython",
    "version": 3
   },
   "file_extension": ".py",
   "mimetype": "text/x-python",
   "name": "python",
   "nbconvert_exporter": "python",
   "pygments_lexer": "ipython3",
   "version": "3.10.9"
  }
 },
 "nbformat": 4,
 "nbformat_minor": 5
}
