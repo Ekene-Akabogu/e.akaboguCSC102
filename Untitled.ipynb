{
 "cells": [
  {
   "cell_type": "code",
   "execution_count": null,
   "id": "dba5fac0",
   "metadata": {},
   "outputs": [],
   "source": [
    "total_amount = 0\n",
    "\n",
    "while True:\n",
    "    price = float(input(\"Enter price of item: \"))\n",
    "    total_amount += price\n",
    "    \n",
    "    question = input(\"\\nContinue Shopping? yes/no: \")\n",
    "    if question == \"no\":\n",
    "        break\n",
    "print(\"Total amount to pay: \", total_amount)\n",
    "\n",
    "print(\"\\nEnter your shipping infomation: \")\n",
    "\n",
    "name = input(\"\\nFirst Name: \")\n",
    "name1 = input(\"\\nLast Name:\")\n",
    "add = input(\"\\nEnter Address: \")\n",
    "city = input(\"\\nEnter City: \")\n",
    "country = input(\"\\nEnter Country\")\n",
    "postal_code = input(\"\\nEnter Postal Code: \")\n",
    "phone = input(\"\\nEnter Phone no.\")"
   ]
  }
 ],
 "metadata": {
  "kernelspec": {
   "display_name": "Python 3 (ipykernel)",
   "language": "python",
   "name": "python3"
  },
  "language_info": {
   "codemirror_mode": {
    "name": "ipython",
    "version": 3
   },
   "file_extension": ".py",
   "mimetype": "text/x-python",
   "name": "python",
   "nbconvert_exporter": "python",
   "pygments_lexer": "ipython3",
   "version": "3.10.9"
  }
 },
 "nbformat": 4,
 "nbformat_minor": 5
}
