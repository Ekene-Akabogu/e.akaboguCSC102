{
 "cells": [
  {
   "cell_type": "code",
   "execution_count": null,
   "id": "e9650f9e",
   "metadata": {},
   "outputs": [],
   "source": [
    "import pandas as pd\n",
    "\n",
    "data1 = {\"Name\": ['Samantha', 'Jada', 'Jane', 'Claire', 'Elizabeth', 'Mary', 'Susan', 'Waje', 'Taibat', 'Lilian'],\n",
    "       \"Age\": [17, 16, 17, 18, 16, 18, 17, 20, 19, 17],\n",
    "       \"Height\": [5.5, 6.0, 5.4, 5.9, 5.6, 5.5, 6.1, 6.0, 5.7, 5.5],\n",
    "       \"Scores\": [80, 85, 70, 60, 76, 66, 87, 95, 50, 49]}\n",
    "\n",
    "data2 = {\"Name\": ['Charles', 'Jude', 'James', 'Kelvin', 'Biodun', 'Wale', 'Kunle', 'Matthew', 'Tom', 'Kayode'],\n",
    "        \"Age\": [19, 16, 18, 17, 20, 19, 16, 18, 17, 19],\n",
    "        \"Height\": [5.7, 5.9, 5.8, 6.1, 5.9, 5.5, 6.1, 5.4, 5.8, 5.7],\n",
    "        \"Scores\": [74, 87, 75, 68, 66, 78, 87, 98, 54, 60]}\n",
    "\n",
    "df = pd.DataFrame(data1)\n",
    "dp = pd.DataFrame(data2)\n",
    "\n",
    "print(dp)\n",
    "df"
   ]
  },
  {
   "cell_type": "markdown",
   "id": "c7f6db21",
   "metadata": {},
   "source": [
    "Algorithm for Code:\n",
    "\n",
    "START \n",
    "Import pandas as pd\n",
    "\n",
    "CREATE data1 dictionary (Name, Age, Height, Scores)\n",
    "             Name: Samantha', 'Jada', 'Jane', 'Claire', 'Elizabeth', 'Mary', 'Susan', 'Waje', 'Taibat', 'Lilian'\n",
    "             Age: 17, 16, 17, 18, 16, 18, 17, 20, 19, 17\n",
    "             Height: 5.5, 6.0, 5.4, 5.9, 5.6, 5.5, 6.1, 6.0, 5.7, 5.5\n",
    "             Scores: 80, 85, 70, 60, 76, 66, 87, 95, 50, 49\n",
    "\n",
    "CREATE data2 dictionary (Name, Age, Height, Scores)\n",
    "             Name: 'Charles', 'Jude', 'James', 'Kelvin', 'Biodun', 'Wale', 'Kunle', 'Matthew', 'Tom', 'Kayode'\n",
    "             Age\": 19, 16, 18, 17, 20, 19, 16, 18, 17, 19\n",
    "             Height\": 5.7, 5.9, 5.8, 6.1, 5.9, 5.5, 6.1, 5.4, 5.8, 5.7\n",
    "             Scores\": 74, 87, 75, 68, 66, 78, 87, 98, 54, 60\n",
    "\n",
    "\n",
    "CREATE DataFrame df from data1\n",
    "ASSIGN data1 to df\n",
    "\n",
    "CREATE DataFrame dp from data2\n",
    "ASSIGN data2 to dp\n",
    "\n",
    "PRINT dp\n",
    "PRINT df"
   ]
  }
 ],
 "metadata": {
  "kernelspec": {
   "display_name": "Python 3 (ipykernel)",
   "language": "python",
   "name": "python3"
  },
  "language_info": {
   "codemirror_mode": {
    "name": "ipython",
    "version": 3
   },
   "file_extension": ".py",
   "mimetype": "text/x-python",
   "name": "python",
   "nbconvert_exporter": "python",
   "pygments_lexer": "ipython3",
   "version": "3.10.9"
  }
 },
 "nbformat": 4,
 "nbformat_minor": 5
}
