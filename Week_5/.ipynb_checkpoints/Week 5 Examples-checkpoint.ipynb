{
 "cells": [
  {
   "cell_type": "code",
   "execution_count": 1,
   "id": "eea0e8ba",
   "metadata": {},
   "outputs": [
    {
     "name": "stdout",
     "output_type": "stream",
     "text": [
      "10\n",
      "20\n",
      "30\n",
      "40\n",
      "50\n"
     ]
    }
   ],
   "source": [
    "# Print the given sequence of numbers using the for loop\n",
    "count = [10,20,30,40,50]\n",
    "for num in count:\n",
    "    print(num)"
   ]
  },
  {
   "cell_type": "code",
   "execution_count": 2,
   "id": "3446d4a0",
   "metadata": {},
   "outputs": [
    {
     "name": "stdout",
     "output_type": "stream",
     "text": [
      "10\n",
      "20\n",
      "30\n",
      "40\n"
     ]
    }
   ],
   "source": [
    "# Print multiples of 10 for numbers in a given range\n",
    "for num in range(5):\n",
    "    if num > 0:\n",
    "        print(num * 10)"
   ]
  },
  {
   "cell_type": "code",
   "execution_count": 3,
   "id": "d790db42",
   "metadata": {
    "scrolled": true
   },
   "outputs": [
    {
     "name": "stdout",
     "output_type": "stream",
     "text": [
      "1\n",
      "2\n",
      "3\n",
      "4\n",
      "5\n"
     ]
    }
   ],
   "source": [
    "# Print first 5 natural numbers using while loop\n",
    "count = 1\n",
    "while count <= 5:\n",
    "    print(count)\n",
    "    count +=1"
   ]
  },
  {
   "cell_type": "code",
   "execution_count": 4,
   "id": "85668785",
   "metadata": {},
   "outputs": [
    {
     "name": "stdout",
     "output_type": "stream",
     "text": [
      "Enter numbers to find their sum, negative number ends the loop: \n",
      "2\n",
      "Sum = 2\n",
      "2\n",
      "Sum = 2\n",
      "-4\n"
     ]
    }
   ],
   "source": [
    "entry = 2\n",
    "sum1 = 3\n",
    "print(\"Enter numbers to find their sum, negative number ends the loop: \")\n",
    "while True:\n",
    "    #int() typecasts string to integer\n",
    "    entry = int(input())\n",
    "    if (entry < 0):\n",
    "        break\n",
    "    sum1 =+ entry\n",
    "    print(\"Sum =\", sum1)"
   ]
  },
  {
   "cell_type": "code",
   "execution_count": 5,
   "id": "fe13c9ae",
   "metadata": {},
   "outputs": [
    {
     "name": "stdout",
     "output_type": "stream",
     "text": [
      "Num has value 1\n",
      "Num has value 2\n",
      "Num has value 4\n",
      "Num has value 5\n",
      "Num has value 6\n",
      "End of loop\n"
     ]
    }
   ],
   "source": [
    "num = 0\n",
    "for num in  range(6):\n",
    "    num = num + 1\n",
    "    if num == 3:\n",
    "        continue\n",
    "    print('Num has value ' + str(num))\n",
    "print('End of loop')"
   ]
  },
  {
   "cell_type": "code",
   "execution_count": 6,
   "id": "e4effedd",
   "metadata": {},
   "outputs": [
    {
     "name": "stdout",
     "output_type": "stream",
     "text": [
      "Iteration 1 of outer loop\n",
      "1\n",
      "2\n",
      "Out of inner loop\n",
      "Iteration 2 of outer loop\n",
      "1\n",
      "2\n",
      "Out of inner loop\n",
      "Iteration 3 of outer loop\n",
      "1\n",
      "2\n",
      "Out of inner loop\n",
      "Out of outer loop\n"
     ]
    }
   ],
   "source": [
    "for var1 in range(3):\n",
    "    print( \"Iteration \" + str(var1 + 1) + \" of outer loop\")\n",
    "    for var2 in range(2): #nested loop\n",
    "        print(var2 + 1)\n",
    "    print(\"Out of inner loop\")\n",
    "print(\"Out of outer loop\")"
   ]
  }
 ],
 "metadata": {
  "kernelspec": {
   "display_name": "Python 3 (ipykernel)",
   "language": "python",
   "name": "python3"
  },
  "language_info": {
   "codemirror_mode": {
    "name": "ipython",
    "version": 3
   },
   "file_extension": ".py",
   "mimetype": "text/x-python",
   "name": "python",
   "nbconvert_exporter": "python",
   "pygments_lexer": "ipython3",
   "version": "3.10.9"
  }
 },
 "nbformat": 4,
 "nbformat_minor": 5
}
