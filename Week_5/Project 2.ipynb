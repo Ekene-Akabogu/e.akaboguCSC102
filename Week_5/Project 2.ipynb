{
 "cells": [
  {
   "cell_type": "code",
   "execution_count": null,
   "id": "05a2e382",
   "metadata": {},
   "outputs": [],
   "source": [
    "\n",
    "name = input(\"Enter Name: \")\n",
    "exp = float(input(\"Enter years of experience: \"))\n",
    "age = float(input(\"Enter age: \"))\n",
    "    \n",
    "if exp > 25 and age >= 55:\n",
    "    print(\"\\nYour Annual Tax Revenue is N5,600,000\")\n",
    "\n",
    "elif 25 >= exp > 20 and 55 > age >= 45:\n",
    "    print(\"\\nYour Annual Tax Revenue is N4,480,000\")\n",
    "    \n",
    "elif 20 >= exp >= 10 and 45 > age >= 35:\n",
    "    print(\"\\nYour Annual Tax Revenue is N1,500,000\")\n",
    "    \n",
    "elif exp < 10 and age < 35:\n",
    "    print(\"\\nYour Annual Tax Revenue is N550,000\")\n",
    "\n",
    "    \n",
    "    "
   ]
  }
 ],
 "metadata": {
  "kernelspec": {
   "display_name": "Python 3 (ipykernel)",
   "language": "python",
   "name": "python3"
  },
  "language_info": {
   "codemirror_mode": {
    "name": "ipython",
    "version": 3
   },
   "file_extension": ".py",
   "mimetype": "text/x-python",
   "name": "python",
   "nbconvert_exporter": "python",
   "pygments_lexer": "ipython3",
   "version": "3.10.9"
  }
 },
 "nbformat": 4,
 "nbformat_minor": 5
}
