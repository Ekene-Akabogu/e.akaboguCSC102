{
 "cells": [
  {
   "cell_type": "code",
   "execution_count": 11,
   "id": "037692e0",
   "metadata": {},
   "outputs": [
    {
     "data": {
      "text/html": [
       "<div>\n",
       "<style scoped>\n",
       "    .dataframe tbody tr th:only-of-type {\n",
       "        vertical-align: middle;\n",
       "    }\n",
       "\n",
       "    .dataframe tbody tr th {\n",
       "        vertical-align: top;\n",
       "    }\n",
       "\n",
       "    .dataframe thead th {\n",
       "        text-align: right;\n",
       "    }\n",
       "</style>\n",
       "<table border=\"1\" class=\"dataframe\">\n",
       "  <thead>\n",
       "    <tr style=\"text-align: right;\">\n",
       "      <th></th>\n",
       "      <th>0</th>\n",
       "    </tr>\n",
       "  </thead>\n",
       "  <tbody>\n",
       "    <tr>\n",
       "      <th>0</th>\n",
       "      <td>CSC</td>\n",
       "    </tr>\n",
       "    <tr>\n",
       "      <th>1</th>\n",
       "      <td>102</td>\n",
       "    </tr>\n",
       "    <tr>\n",
       "      <th>2</th>\n",
       "      <td>is</td>\n",
       "    </tr>\n",
       "    <tr>\n",
       "      <th>3</th>\n",
       "      <td>the</td>\n",
       "    </tr>\n",
       "    <tr>\n",
       "      <th>4</th>\n",
       "      <td>best</td>\n",
       "    </tr>\n",
       "    <tr>\n",
       "      <th>5</th>\n",
       "      <td>course</td>\n",
       "    </tr>\n",
       "    <tr>\n",
       "      <th>6</th>\n",
       "      <td>ever</td>\n",
       "    </tr>\n",
       "  </tbody>\n",
       "</table>\n",
       "</div>"
      ],
      "text/plain": [
       "        0\n",
       "0     CSC\n",
       "1     102\n",
       "2      is\n",
       "3     the\n",
       "4    best\n",
       "5  course\n",
       "6    ever"
      ]
     },
     "execution_count": 11,
     "metadata": {},
     "output_type": "execute_result"
    }
   ],
   "source": [
    "# import pandas as pd\n",
    "import pandas as pd\n",
    "\n",
    "# list of strings\n",
    "lyst = ['CSC', '102', 'is', 'the', 'best','course', 'ever']\n",
    "\n",
    "# Calling DataFrame constructor on list\n",
    "df = pd.DataFrame(lyst)\n",
    "\n",
    "# Print the output.\n",
    "df"
   ]
  },
  {
   "cell_type": "code",
   "execution_count": 12,
   "id": "14f91bad",
   "metadata": {},
   "outputs": [
    {
     "data": {
      "text/html": [
       "<div>\n",
       "<style scoped>\n",
       "    .dataframe tbody tr th:only-of-type {\n",
       "        vertical-align: middle;\n",
       "    }\n",
       "\n",
       "    .dataframe tbody tr th {\n",
       "        vertical-align: top;\n",
       "    }\n",
       "\n",
       "    .dataframe thead th {\n",
       "        text-align: right;\n",
       "    }\n",
       "</style>\n",
       "<table border=\"1\" class=\"dataframe\">\n",
       "  <thead>\n",
       "    <tr style=\"text-align: right;\">\n",
       "      <th></th>\n",
       "      <th>Name</th>\n",
       "      <th>Age</th>\n",
       "    </tr>\n",
       "  </thead>\n",
       "  <tbody>\n",
       "    <tr>\n",
       "      <th>0</th>\n",
       "      <td>Angela</td>\n",
       "      <td>20</td>\n",
       "    </tr>\n",
       "    <tr>\n",
       "      <th>1</th>\n",
       "      <td>Precious</td>\n",
       "      <td>21</td>\n",
       "    </tr>\n",
       "    <tr>\n",
       "      <th>2</th>\n",
       "      <td>Luis</td>\n",
       "      <td>19</td>\n",
       "    </tr>\n",
       "    <tr>\n",
       "      <th>3</th>\n",
       "      <td>Ade</td>\n",
       "      <td>18</td>\n",
       "    </tr>\n",
       "  </tbody>\n",
       "</table>\n",
       "</div>"
      ],
      "text/plain": [
       "       Name  Age\n",
       "0    Angela   20\n",
       "1  Precious   21\n",
       "2      Luis   19\n",
       "3       Ade   18"
      ]
     },
     "execution_count": 12,
     "metadata": {},
     "output_type": "execute_result"
    }
   ],
   "source": [
    "import pandas as pd\n",
    "\n",
    "# initialise data of lists\n",
    "data = {'Name': ['Angela', 'Precious', 'Luis', 'Ade'],\n",
    "        'Age': [20, 21, 19, 18]}\n",
    "\n",
    "# Create DataFrame\n",
    "df = pd.DataFrame(data)\n",
    "\n",
    "# Print the output\n",
    "df"
   ]
  },
  {
   "cell_type": "code",
   "execution_count": 13,
   "id": "953e87e7",
   "metadata": {},
   "outputs": [
    {
     "data": {
      "text/html": [
       "<div>\n",
       "<style scoped>\n",
       "    .dataframe tbody tr th:only-of-type {\n",
       "        vertical-align: middle;\n",
       "    }\n",
       "\n",
       "    .dataframe tbody tr th {\n",
       "        vertical-align: top;\n",
       "    }\n",
       "\n",
       "    .dataframe thead th {\n",
       "        text-align: right;\n",
       "    }\n",
       "</style>\n",
       "<table border=\"1\" class=\"dataframe\">\n",
       "  <thead>\n",
       "    <tr style=\"text-align: right;\">\n",
       "      <th></th>\n",
       "      <th>Name</th>\n",
       "      <th>Qualification</th>\n",
       "    </tr>\n",
       "  </thead>\n",
       "  <tbody>\n",
       "    <tr>\n",
       "      <th>0</th>\n",
       "      <td>Clem</td>\n",
       "      <td>Msc</td>\n",
       "    </tr>\n",
       "    <tr>\n",
       "      <th>1</th>\n",
       "      <td>Prince</td>\n",
       "      <td>MA</td>\n",
       "    </tr>\n",
       "    <tr>\n",
       "      <th>2</th>\n",
       "      <td>Edward</td>\n",
       "      <td>MCA</td>\n",
       "    </tr>\n",
       "    <tr>\n",
       "      <th>3</th>\n",
       "      <td>Adele</td>\n",
       "      <td>Phd</td>\n",
       "    </tr>\n",
       "  </tbody>\n",
       "</table>\n",
       "</div>"
      ],
      "text/plain": [
       "     Name Qualification\n",
       "0    Clem           Msc\n",
       "1  Prince            MA\n",
       "2  Edward           MCA\n",
       "3   Adele           Phd"
      ]
     },
     "execution_count": 13,
     "metadata": {},
     "output_type": "execute_result"
    }
   ],
   "source": [
    "# Import pandas package\n",
    "import pandas as pd\n",
    "\n",
    "# Define a dictionary containing employee data\n",
    "data = {'Name': ['Clem', 'Prince', 'Edward', 'Adele'],\n",
    "       'Age': [27, 24, 22, 32],\n",
    "       'Address': ['Abuja', 'Kano', 'Minna', 'Lagos'],\n",
    "       'Qualification': ['Msc', 'MA', 'MCA', 'Phd']}\n",
    "\n",
    "# Convert the dictionary into DataFrame\n",
    "df = pd.DataFrame(data)\n",
    "\n",
    "# Select two columns\n",
    "df[['Name', 'Qualification']]"
   ]
  },
  {
   "cell_type": "code",
   "execution_count": 14,
   "id": "4ffd6e79",
   "metadata": {},
   "outputs": [
    {
     "data": {
      "text/plain": [
       "Name              Oyin\n",
       "Age                 27\n",
       "Address          Asaba\n",
       "Qualification      Msc\n",
       "Name: 0, dtype: object"
      ]
     },
     "execution_count": 14,
     "metadata": {},
     "output_type": "execute_result"
    }
   ],
   "source": [
    "import pandas as pg\n",
    "\n",
    "# Define a dictionary containing employee data\n",
    "data = {'Name': ['Oyin', 'Mary', 'David', 'Bola'],\n",
    "       'Age': [27, 24, 22, 32],\n",
    "       'Address': ['Asaba', 'Maiduguri', 'Onitsha', 'Kwara'],\n",
    "       'Qualification': ['Msc', 'MA', 'MCA', 'Phd']}\n",
    "\n",
    "# Convert the dictionary into DataFrame\n",
    "df = pd.DataFrame(data)\n",
    "\n",
    "# Select first row\n",
    "df.iloc[0]"
   ]
  },
  {
   "cell_type": "code",
   "execution_count": 15,
   "id": "5b1843c5",
   "metadata": {},
   "outputs": [
    {
     "data": {
      "text/html": [
       "<div>\n",
       "<style scoped>\n",
       "    .dataframe tbody tr th:only-of-type {\n",
       "        vertical-align: middle;\n",
       "    }\n",
       "\n",
       "    .dataframe tbody tr th {\n",
       "        vertical-align: top;\n",
       "    }\n",
       "\n",
       "    .dataframe thead th {\n",
       "        text-align: right;\n",
       "    }\n",
       "</style>\n",
       "<table border=\"1\" class=\"dataframe\">\n",
       "  <thead>\n",
       "    <tr style=\"text-align: right;\">\n",
       "      <th></th>\n",
       "      <th>Employee Names</th>\n",
       "      <th>Years</th>\n",
       "      <th>Assesment Records</th>\n",
       "      <th>Points</th>\n",
       "      <th>Reward</th>\n",
       "    </tr>\n",
       "  </thead>\n",
       "  <tbody>\n",
       "    <tr>\n",
       "      <th>0</th>\n",
       "      <td>Matthew Ade</td>\n",
       "      <td>25</td>\n",
       "      <td>125.3</td>\n",
       "      <td>21</td>\n",
       "      <td>438.55</td>\n",
       "    </tr>\n",
       "    <tr>\n",
       "      <th>1</th>\n",
       "      <td>Angela Adebisi</td>\n",
       "      <td>15</td>\n",
       "      <td>77.9</td>\n",
       "      <td>14</td>\n",
       "      <td>181.77</td>\n",
       "    </tr>\n",
       "    <tr>\n",
       "      <th>2</th>\n",
       "      <td>Calistus Ndukwe</td>\n",
       "      <td>10</td>\n",
       "      <td>144.2</td>\n",
       "      <td>18</td>\n",
       "      <td>432.60</td>\n",
       "    </tr>\n",
       "    <tr>\n",
       "      <th>3</th>\n",
       "      <td>Martha Martins</td>\n",
       "      <td>9</td>\n",
       "      <td>81.5</td>\n",
       "      <td>25</td>\n",
       "      <td>339.58</td>\n",
       "    </tr>\n",
       "    <tr>\n",
       "      <th>4</th>\n",
       "      <td>Victor Sayola</td>\n",
       "      <td>18</td>\n",
       "      <td>77.8</td>\n",
       "      <td>33</td>\n",
       "      <td>427.90</td>\n",
       "    </tr>\n",
       "    <tr>\n",
       "      <th>5</th>\n",
       "      <td>Adamu Bello</td>\n",
       "      <td>23</td>\n",
       "      <td>99.5</td>\n",
       "      <td>24</td>\n",
       "      <td>398.00</td>\n",
       "    </tr>\n",
       "  </tbody>\n",
       "</table>\n",
       "</div>"
      ],
      "text/plain": [
       "    Employee Names  Years  Assesment Records  Points  Reward\n",
       "0      Matthew Ade     25              125.3      21  438.55\n",
       "1   Angela Adebisi     15               77.9      14  181.77\n",
       "2  Calistus Ndukwe     10              144.2      18  432.60\n",
       "3   Martha Martins      9               81.5      25  339.58\n",
       "4    Victor Sayola     18               77.8      33  427.90\n",
       "5      Adamu Bello     23               99.5      24  398.00"
      ]
     },
     "execution_count": 15,
     "metadata": {},
     "output_type": "execute_result"
    }
   ],
   "source": [
    "# Importing pandas package\n",
    "import pandas as pd\n",
    "\n",
    "# Making data frame form csv file\n",
    "data = pd.read_csv(\"employee_records.csv\")\n",
    "\n",
    "# Print excel\n",
    "data"
   ]
  },
  {
   "cell_type": "code",
   "execution_count": 26,
   "id": "f18638cf",
   "metadata": {},
   "outputs": [
    {
     "data": {
      "text/plain": [
       "Employee Names       Angela Adebisi\n",
       "Years                            15\n",
       "Assesment Records              77.9\n",
       "Points                           14\n",
       "Reward                       181.77\n",
       "Name: 1, dtype: object"
      ]
     },
     "execution_count": 26,
     "metadata": {},
     "output_type": "execute_result"
    }
   ],
   "source": [
    "# Importing pandas package\n",
    "import pandas as pd\n",
    "\n",
    "# Making data frame from csv file\n",
    "data = pd.read_csv(\"employee_records.csv\")\n",
    "\n",
    "df=data.iloc[1]\n",
    "\n",
    "# Print excel\n",
    "df"
   ]
  },
  {
   "cell_type": "code",
   "execution_count": 23,
   "id": "839ebf3a",
   "metadata": {},
   "outputs": [
    {
     "data": {
      "text/html": [
       "<div>\n",
       "<style scoped>\n",
       "    .dataframe tbody tr th:only-of-type {\n",
       "        vertical-align: middle;\n",
       "    }\n",
       "\n",
       "    .dataframe tbody tr th {\n",
       "        vertical-align: top;\n",
       "    }\n",
       "\n",
       "    .dataframe thead th {\n",
       "        text-align: right;\n",
       "    }\n",
       "</style>\n",
       "<table border=\"1\" class=\"dataframe\">\n",
       "  <thead>\n",
       "    <tr style=\"text-align: right;\">\n",
       "      <th></th>\n",
       "      <th>Employee Names</th>\n",
       "      <th>Years</th>\n",
       "      <th>Assesment Records</th>\n",
       "      <th>Points</th>\n",
       "      <th>Reward</th>\n",
       "    </tr>\n",
       "  </thead>\n",
       "  <tbody>\n",
       "    <tr>\n",
       "      <th>0</th>\n",
       "      <td>Matthew Ade</td>\n",
       "      <td>25</td>\n",
       "      <td>125.3</td>\n",
       "      <td>21</td>\n",
       "      <td>438.55</td>\n",
       "    </tr>\n",
       "  </tbody>\n",
       "</table>\n",
       "</div>"
      ],
      "text/plain": [
       "  Employee Names  Years  Assesment Records  Points  Reward\n",
       "0    Matthew Ade     25              125.3      21  438.55"
      ]
     },
     "execution_count": 23,
     "metadata": {},
     "output_type": "execute_result"
    }
   ],
   "source": [
    "# Importing pandas package\n",
    "import pandas as pd\n",
    "\n",
    "# Making data frame from csv file\n",
    "data = pd.read_csv(\"employee_records.csv\")\n",
    "\n",
    "df=data.head(1)\n",
    "\n",
    "# Print Excel\n",
    "df"
   ]
  },
  {
   "cell_type": "code",
   "execution_count": 18,
   "id": "33597062",
   "metadata": {},
   "outputs": [
    {
     "name": "stdout",
     "output_type": "stream",
     "text": [
      "0 name      Abdul\n",
      "degree      MBA\n",
      "score        90\n",
      "Name: 0, dtype: object\n",
      "\n",
      "1 name      Chukwuemeka\n",
      "degree            BCA\n",
      "score              40\n",
      "Name: 1, dtype: object\n",
      "\n",
      "2 name        Seyi\n",
      "degree    M.Tech\n",
      "score         80\n",
      "Name: 2, dtype: object\n",
      "\n",
      "3 name      Matt\n",
      "degree     MBA\n",
      "score       98\n",
      "Name: 3, dtype: object\n",
      "\n"
     ]
    }
   ],
   "source": [
    "# Importing pandas as pd\n",
    "import pandas as pd\n",
    "\n",
    "# dictionary of lists\n",
    "dict = {'name': [\"Abdul\", \"Chukwuemeka\", \"Seyi\", \"Matt\"],\n",
    "       'degree': [\"MBA\", \"BCA\", \"M.Tech\", \"MBA\"],\n",
    "       'score': [90, 40, 80, 98]}\n",
    "\n",
    "# Creating a dataframe from a dictionary\n",
    "df = pd.DataFrame(dict)\n",
    "\n",
    "# Iterating over rows using iterrow() function\n",
    "for i, j in df.iterrows():\n",
    "    print(i, j)\n",
    "    print()"
   ]
  },
  {
   "cell_type": "code",
   "execution_count": 19,
   "id": "54bbc466",
   "metadata": {},
   "outputs": [
    {
     "name": "stdout",
     "output_type": "stream",
     "text": [
      "Ugochi\n",
      "M.Tech\n",
      "80\n"
     ]
    }
   ],
   "source": [
    "# Importing pandas as pd\n",
    "import pandas as pd\n",
    "\n",
    "# Dictionary of lists\n",
    "dict = {'name': [\"Bello\", \"Kamara\", \"Ugochi\", \"David\"],\n",
    "       'degree': [\"MBA\", \"BCA\", \"M.Tech\", \"MBA\"],\n",
    "       'score': [90, 40, 80, 98]}\n",
    "\n",
    "# Creating a dataframe form a dictionary\n",
    "df = pd.DataFrame(dict)\n",
    "\n",
    "# Creating a list of dataframe columns\n",
    "columns = list(df)\n",
    "\n",
    "for i in columns:\n",
    "    \n",
    "    # Printing the third element of the column\n",
    "    print (df[i][2])"
   ]
  },
  {
   "cell_type": "code",
   "execution_count": 3,
   "id": "879c640d",
   "metadata": {},
   "outputs": [],
   "source": [
    "# Importing pandas as pd\n",
    "import pandas as pd\n",
    "\n",
    "# Dictionary of lists\n",
    "records = {'name': [\"Abel\", \"Kamsi\", \"Oyode\", \"Chinelo\"],\n",
    "          'degree': [\"MBA\", \"BCA\", \"M.Tech\", \"MBA\"],\n",
    "          'score': [90, 40, 80, 98]}\n",
    "\n",
    "# Creating a dataframe from a dictionary\n",
    "df = pd.DataFrame(records)\n",
    "\n",
    "# Saving the dataframe\n",
    "df.to_csv('records.csv')"
   ]
  }
 ],
 "metadata": {
  "kernelspec": {
   "display_name": "Python 3 (ipykernel)",
   "language": "python",
   "name": "python3"
  },
  "language_info": {
   "codemirror_mode": {
    "name": "ipython",
    "version": 3
   },
   "file_extension": ".py",
   "mimetype": "text/x-python",
   "name": "python",
   "nbconvert_exporter": "python",
   "pygments_lexer": "ipython3",
   "version": "3.10.9"
  }
 },
 "nbformat": 4,
 "nbformat_minor": 5
}
