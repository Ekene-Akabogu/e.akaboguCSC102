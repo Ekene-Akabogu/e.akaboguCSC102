{
 "cells": [
  {
   "cell_type": "code",
   "execution_count": 3,
   "id": "ab1e3b64",
   "metadata": {},
   "outputs": [],
   "source": [
    "import pandas as pd\n",
    "\n",
    "drinks = {'Lager': [\"33 Export\", \"Desperados\", \"Godlberg\", \"Heineken\"],\n",
    "         'Stout': [\"Legend\", \"Turbo King\", \"Williams\", \"Guiness\"],\n",
    "         'Non-Alcoholic': [\"Malaria\", \"Amstel Malta\", \"Malta Gold\", \"Fayrouz\"]}\n",
    "\n",
    "df = pd.DataFrame(drinks)\n",
    "\n",
    "df.to_csv('Nigerian_Brewery_Limited.csv')"
   ]
  }
 ],
 "metadata": {
  "kernelspec": {
   "display_name": "Python 3 (ipykernel)",
   "language": "python",
   "name": "python3"
  },
  "language_info": {
   "codemirror_mode": {
    "name": "ipython",
    "version": 3
   },
   "file_extension": ".py",
   "mimetype": "text/x-python",
   "name": "python",
   "nbconvert_exporter": "python",
   "pygments_lexer": "ipython3",
   "version": "3.10.9"
  }
 },
 "nbformat": 4,
 "nbformat_minor": 5
}
