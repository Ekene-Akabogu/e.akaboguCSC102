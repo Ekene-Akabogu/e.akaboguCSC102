{
 "cells": [
  {
   "cell_type": "code",
   "execution_count": 21,
   "id": "71381248",
   "metadata": {},
   "outputs": [
    {
     "name": "stdout",
     "output_type": "stream",
     "text": [
      " Equations: \n",
      "\n",
      "1. Area of Trapezium \n",
      "2. Area of Rhombus \n",
      "3. Area of Parallelogram\n",
      "4. Area of Cube \n",
      "5. Volume of Cylinder\n",
      "\n",
      "Select equation to solve: 3\n",
      "\n",
      "\n",
      "Area of Parallelogram\n",
      "Enter base: 4\n",
      "Enter altitude: 4\n",
      "\n",
      "The area of the parallelogram is:  16.0\n"
     ]
    }
   ],
   "source": [
    "print(\" Equations: \")\n",
    "print(\"\\n1. Area of Trapezium \\n2. Area of Rhombus \\n3. Area of Parallelogram\")\n",
    "print(\"4. Area of Cube \\n5. Volume of Cylinder\")\n",
    "\n",
    "class Equation():\n",
    "    \n",
    "    def __init__(self, equation):\n",
    "        self.equation = equation\n",
    "        \n",
    "    def UserInput(self):\n",
    "        \n",
    "        UserInput = float(input(\"\\nSelect equation to solve: \"))\n",
    "     \n",
    "        if UserInput == 1:\n",
    "            print(\"\\n\\nArea of Trapezium\")\n",
    "            height = float(input(\"\\nEnter height: \"))\n",
    "            base1 = float(input(\"\\nEnter base1: \"))\n",
    "            base2 = float(input(\"\\nEnter base2: \"))\n",
    "    \n",
    "            Area = height/2 * (base1 + base2)\n",
    "            print(\"\\nThe area of the trapezium is: \", Area)\n",
    "\n",
    "        elif UserInput == 2:\n",
    "            print(\"\\n\\nArea of Rhombus\")\n",
    "            diagonal1 = float(input(\"Enter 1st diagonal: \"))\n",
    "            diagonal2 = float(input(\"Enter 2nd diagonal: \"))\n",
    "        \n",
    "            Area = 1/2 * (diagonal1 * diagonal2)\n",
    "            print(\"\\nThe area of the rhombus is: \", Area)\n",
    "            \n",
    "        elif UserInput == 3:\n",
    "            print(\"\\n\\nArea of Parallelogram\")\n",
    "            base = float(input(\"Enter base: \"))\n",
    "            altitude = float(input(\"Enter altitude: \"))\n",
    "            \n",
    "            Area = base * altitude\n",
    "            print(\"\\nThe area of the parallelogram is: \", Area)\n",
    "            \n",
    "        elif UserInput == 4:\n",
    "            print(\"\\n\\nArea of Cube\")\n",
    "            length = float(input(\"Enter length of side: \"))\n",
    "            \n",
    "            Area = 6 * (length)**2\n",
    "            print(\"\\nArea of the cube is: \", Area)\n",
    "            \n",
    "        elif UserInput == 5:\n",
    "            print(\"\\n\\nVoulume of Cylinder\")\n",
    "            radius = float(input(\"Enter radius: \"))\n",
    "            height = float(input(\"Enter height: \"))\n",
    "            \n",
    "            Volume = 22/7 * (radius)**2 * height\n",
    "            print(\"\\nThe volume of the cylinder is: \", Volume)\n",
    "            \n",
    "        else:\n",
    "            print(\"\\nInvalid Input\")\n",
    "eq = Equation(\"Equation\")\n",
    "eq.UserInput()"
   ]
  }
 ],
 "metadata": {
  "kernelspec": {
   "display_name": "Python 3 (ipykernel)",
   "language": "python",
   "name": "python3"
  },
  "language_info": {
   "codemirror_mode": {
    "name": "ipython",
    "version": 3
   },
   "file_extension": ".py",
   "mimetype": "text/x-python",
   "name": "python",
   "nbconvert_exporter": "python",
   "pygments_lexer": "ipython3",
   "version": "3.10.9"
  }
 },
 "nbformat": 4,
 "nbformat_minor": 5
}
