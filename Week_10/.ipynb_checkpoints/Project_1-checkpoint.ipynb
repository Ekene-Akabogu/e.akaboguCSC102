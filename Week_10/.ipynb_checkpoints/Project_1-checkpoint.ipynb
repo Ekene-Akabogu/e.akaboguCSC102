{
 "cells": [
  {
   "cell_type": "code",
   "execution_count": 8,
   "id": "3845c40e",
   "metadata": {
    "scrolled": true
   },
   "outputs": [
    {
     "name": "stdout",
     "output_type": "stream",
     "text": [
      "Welcome to Xander's Store\n",
      "\n",
      "Enter no. of oranges to purchase: 54\n",
      "\n",
      "The price of the oranges is:  2700.0\n",
      "\n",
      "Thanks for your patronage\n"
     ]
    }
   ],
   "source": [
    "print(\"Welcome to Xander's Store\")\n",
    "\n",
    "class oranges():\n",
    "    \n",
    "    def __init__(self, amount, quantity):\n",
    "        self.amount = amount\n",
    "        self.quantity = quantity\n",
    "    \n",
    "    def UserInput(self):\n",
    "        while True:\n",
    "            UserInput = float(input(\"\\nEnter no. of oranges to purchase: \"))\n",
    "    \n",
    "            if UserInput > self.quantity:\n",
    "                print(\"\\nEnter quantity less than previously specified\")\n",
    "    \n",
    "            else:\n",
    "                return UserInput\n",
    "     \n",
    "    def price(self):\n",
    "        userInput = self.UserInput()\n",
    "        price = userInput * self.amount\n",
    "        print(\"\\nThe price of the oranges is: \", price)\n",
    "        \n",
    "Orange = oranges(50, 100)\n",
    "Orange.price()\n",
    "\n",
    "print(\"\\nThanks for your patronage\")\n"
   ]
  }
 ],
 "metadata": {
  "kernelspec": {
   "display_name": "Python 3 (ipykernel)",
   "language": "python",
   "name": "python3"
  },
  "language_info": {
   "codemirror_mode": {
    "name": "ipython",
    "version": 3
   },
   "file_extension": ".py",
   "mimetype": "text/x-python",
   "name": "python",
   "nbconvert_exporter": "python",
   "pygments_lexer": "ipython3",
   "version": "3.10.9"
  }
 },
 "nbformat": 4,
 "nbformat_minor": 5
}
