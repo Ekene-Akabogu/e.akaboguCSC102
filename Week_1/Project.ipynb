{
 "cells": [
  {
   "cell_type": "code",
   "execution_count": 1,
   "id": "93430cd7",
   "metadata": {
    "scrolled": true
   },
   "outputs": [
    {
     "name": "stdout",
     "output_type": "stream",
     "text": [
      "Enter principal: 54\n",
      "Enter rate: 5\n",
      "Enter time(in years): 4\n",
      "The simple interest is :  64.8\n"
     ]
    }
   ],
   "source": [
    "# Python program to calculate simple interest\n",
    "\n",
    "p = float(input(\"Enter principal: \"))\n",
    "r = float(input(\"Enter rate: \"))\n",
    "t = float(input(\"Enter time(in years): \"))          \n",
    "\n",
    "A = p * (1 + (r/100) * t)\n",
    "print(\"The simple interest is : \", A)"
   ]
  },
  {
   "cell_type": "code",
   "execution_count": 2,
   "id": "0d2c2610",
   "metadata": {},
   "outputs": [
    {
     "name": "stdout",
     "output_type": "stream",
     "text": [
      "Enter principal: 3\n",
      "Enter rate: 4\n",
      "Enter number of times interest is compounded: 5\n",
      "Enter time (in years): 2\n",
      "The compound interest is:  1071.1401679872004\n"
     ]
    }
   ],
   "source": [
    "# Python program to calculate compund interest\n",
    "\n",
    "p = float(input(\"Enter principal: \"))\n",
    "r = float(input(\"Enter rate: \"))\n",
    "n = float(input(\"Enter number of times interest is compounded: \"))\n",
    "t = float(input(\"Enter time (in years): \"))\n",
    "\n",
    "A = p * (1 + (r/n)) ** (n * t)\n",
    "print(\"The compound interest is: \", A)"
   ]
  },
  {
   "cell_type": "code",
   "execution_count": null,
   "id": "e66ca91a",
   "metadata": {},
   "outputs": [],
   "source": [
    "# Python program to calculate annuity plan\n",
    "\n",
    "pmt = float(input(\"Enter PMT: \"))\n",
    "r = float(input(\"Ent23er rate: \"))\n",
    "n = float(input(\"Enter no. of times interest is compounded: \"))\n",
    "t = float(input(\"Enter time (in years): \"))\n",
    "\n",
    "A = pmt * ( (1 + ( r/n) ** (n * t) - 1) / (r/n) )\n",
    "print(\"The annuity plan is: \", A)"
   ]
  }
 ],
 "metadata": {
  "kernelspec": {
   "display_name": "Python 3 (ipykernel)",
   "language": "python",
   "name": "python3"
  },
  "language_info": {
   "codemirror_mode": {
    "name": "ipython",
    "version": 3
   },
   "file_extension": ".py",
   "mimetype": "text/x-python",
   "name": "python",
   "nbconvert_exporter": "python",
   "pygments_lexer": "ipython3",
   "version": "3.10.9"
  }
 },
 "nbformat": 4,
 "nbformat_minor": 5
}
