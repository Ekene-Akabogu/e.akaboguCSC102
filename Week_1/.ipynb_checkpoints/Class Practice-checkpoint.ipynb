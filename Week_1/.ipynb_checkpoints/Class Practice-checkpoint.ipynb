{
 "cells": [
  {
   "cell_type": "code",
   "execution_count": 1,
   "id": "183a1f2c",
   "metadata": {},
   "outputs": [
    {
     "name": "stdout",
     "output_type": "stream",
     "text": [
      "Hello Jay\n"
     ]
    }
   ],
   "source": [
    "print(\"Hello Jay\")"
   ]
  },
  {
   "cell_type": "code",
   "execution_count": 1,
   "id": "e0e083b3",
   "metadata": {
    "scrolled": false
   },
   "outputs": [
    {
     "name": "stdout",
     "output_type": "stream",
     "text": [
      "What's your nameEkene\n",
      "Hello Ekene\n"
     ]
    }
   ],
   "source": [
    "person = input(\"What's your name\")\n",
    "print('Hello', person)"
   ]
  },
  {
   "cell_type": "code",
   "execution_count": null,
   "id": "600e1cc8",
   "metadata": {},
   "outputs": [],
   "source": [
    "age = 12\n",
    "print(age)"
   ]
  },
  {
   "cell_type": "code",
   "execution_count": 2,
   "id": "36a8f62d",
   "metadata": {},
   "outputs": [
    {
     "name": "stdout",
     "output_type": "stream",
     "text": [
      "42\n"
     ]
    }
   ],
   "source": [
    "x = 6\n",
    "y = x * 7\n",
    "print(y)"
   ]
  },
  {
   "cell_type": "code",
   "execution_count": null,
   "id": "eea2adfc",
   "metadata": {},
   "outputs": [],
   "source": [
    "name = 'Adele Joe'\n",
    "print (name)"
   ]
  },
  {
   "cell_type": "code",
   "execution_count": 5,
   "id": "000e398e",
   "metadata": {},
   "outputs": [
    {
     "data": {
      "text/plain": [
       "False"
      ]
     },
     "execution_count": 5,
     "metadata": {},
     "output_type": "execute_result"
    }
   ],
   "source": [
    "mango =  5\n",
    "apple = 3\n",
    "apple > mango"
   ]
  },
  {
   "cell_type": "code",
   "execution_count": 6,
   "id": "8930f449",
   "metadata": {},
   "outputs": [
    {
     "data": {
      "text/plain": [
       "False"
      ]
     },
     "execution_count": 6,
     "metadata": {},
     "output_type": "execute_result"
    }
   ],
   "source": [
    "mango < apple"
   ]
  },
  {
   "cell_type": "code",
   "execution_count": 9,
   "id": "e5d3df60",
   "metadata": {},
   "outputs": [
    {
     "data": {
      "text/plain": [
       "False"
      ]
     },
     "execution_count": 9,
     "metadata": {},
     "output_type": "execute_result"
    }
   ],
   "source": [
    "mango == apple"
   ]
  },
  {
   "cell_type": "code",
   "execution_count": 8,
   "id": "ce91bef8",
   "metadata": {},
   "outputs": [
    {
     "name": "stdout",
     "output_type": "stream",
     "text": [
      "Is it dark outside? y/n y\n"
     ]
    }
   ],
   "source": [
    "dark = input('Is it dark outside? y/n ')"
   ]
  },
  {
   "cell_type": "code",
   "execution_count": 10,
   "id": "d3cee8b9",
   "metadata": {},
   "outputs": [
    {
     "name": "stdout",
     "output_type": "stream",
     "text": [
      "Hello Guys\n",
      "How are you all?\n",
      "Welcome to Python Programming\n"
     ]
    }
   ],
   "source": [
    "\n",
    "# We are writing a simple program here\n",
    "# First print statement.\n",
    "# This is a multiple line comment.\n",
    "\n",
    "print(\"Hello Guys\")\n",
    "\n",
    "# Second print statement\n",
    "print(\"How are you all?\")\n",
    "\n",
    "# Third print statement\n",
    "print(\"Welcome to Python Programming\")"
   ]
  },
  {
   "cell_type": "code",
   "execution_count": 13,
   "id": "cbea8d07",
   "metadata": {},
   "outputs": [
    {
     "name": "stdout",
     "output_type": "stream",
     "text": [
      "Three digit number\n"
     ]
    }
   ],
   "source": [
    "num = 100\n",
    "\n",
    "if 9 < num < 99:\n",
    "    print(\"Two digit number\")\n",
    "    \n",
    "elif 99 < num < 999:\n",
    "    print(\"Three digit number\")\n",
    "        \n",
    "elif 999 < num < 9999:\n",
    "    print(\"Four digit number\")\n",
    "\n",
    "else:\n",
    "    print(\"number is <= 9 or >= \")"
   ]
  },
  {
   "cell_type": "code",
   "execution_count": 16,
   "id": "6bc17a99",
   "metadata": {},
   "outputs": [
    {
     "name": "stdout",
     "output_type": "stream",
     "text": [
      "number is <= 9 or >= 9999 \n"
     ]
    }
   ],
   "source": [
    "if 9 < num < 99:\n",
    "    print(\"Two digit number\")\n",
    "    \n",
    "    if 99 < num < 999:\n",
    "        print(\"Three digit number\")\n",
    "        \n",
    "        if 999 < num < 9999:\n",
    "            print(\"Four digit number\")\n",
    "\n",
    "else:\n",
    "    print(\"number is <= 9 or >= 9999 \")"
   ]
  },
  {
   "cell_type": "markdown",
   "id": "b9979620",
   "metadata": {},
   "source": []
  }
 ],
 "metadata": {
  "kernelspec": {
   "display_name": "Python 3 (ipykernel)",
   "language": "python",
   "name": "python3"
  },
  "language_info": {
   "codemirror_mode": {
    "name": "ipython",
    "version": 3
   },
   "file_extension": ".py",
   "mimetype": "text/x-python",
   "name": "python",
   "nbconvert_exporter": "python",
   "pygments_lexer": "ipython3",
   "version": "3.10.9"
  }
 },
 "nbformat": 4,
 "nbformat_minor": 5
}
